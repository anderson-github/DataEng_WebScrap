{
 "cells": [
  {
   "cell_type": "markdown",
   "metadata": {},
   "source": [
    "## **Solicitudes a la Web**"
   ]
  },
  {
   "cell_type": "code",
   "execution_count": 7,
   "metadata": {},
   "outputs": [],
   "source": [
    "import requests\n",
    "\n",
    "response = requests.get('https://www.platzi.com')"
   ]
  },
  {
   "cell_type": "markdown",
   "metadata": {},
   "source": [
    "El comando **?** puesto al final del objeto response, muestra información sobre el objeto."
   ]
  },
  {
   "cell_type": "code",
   "execution_count": 8,
   "metadata": {},
   "outputs": [
    {
     "data": {
      "text/plain": [
       "\u001b[0;31mType:\u001b[0m        Response\n",
       "\u001b[0;31mString form:\u001b[0m <Response [200]>\n",
       "\u001b[0;31mFile:\u001b[0m        ~/.cache/pypoetry/virtualenvs/myplatzidata-O_aroVKx-py3.7/lib/python3.7/site-packages/requests/models.py\n",
       "\u001b[0;31mDocstring:\u001b[0m  \n",
       "The :class:`Response <Response>` object, which contains a\n",
       "server's response to an HTTP request.\n"
      ]
     },
     "metadata": {},
     "output_type": "display_data"
    }
   ],
   "source": [
    "response?"
   ]
  },
  {
   "cell_type": "code",
   "execution_count": 9,
   "metadata": {},
   "outputs": [
    {
     "name": "stdout",
     "output_type": "stream",
     "text": [
      "['__attrs__', '__bool__', '__class__', '__delattr__', '__dict__', '__dir__', '__doc__', '__enter__', '__eq__', '__exit__', '__format__', '__ge__', '__getattribute__', '__getstate__', '__gt__', '__hash__', '__init__', '__init_subclass__', '__iter__', '__le__', '__lt__', '__module__', '__ne__', '__new__', '__nonzero__', '__reduce__', '__reduce_ex__', '__repr__', '__setattr__', '__setstate__', '__sizeof__', '__str__', '__subclasshook__', '__weakref__', '_content', '_content_consumed', '_next', 'apparent_encoding', 'close', 'connection', 'content', 'cookies', 'elapsed', 'encoding', 'headers', 'history', 'is_permanent_redirect', 'is_redirect', 'iter_content', 'iter_lines', 'json', 'links', 'next', 'ok', 'raise_for_status', 'raw', 'reason', 'request', 'status_code', 'text', 'url']\n"
     ]
    }
   ],
   "source": [
    "print(dir(response))"
   ]
  },
  {
   "cell_type": "code",
   "execution_count": 10,
   "metadata": {},
   "outputs": [
    {
     "name": "stdout",
     "output_type": "stream",
     "text": [
      "200\n"
     ]
    }
   ],
   "source": [
    "print(response.status_code)"
   ]
  },
  {
   "cell_type": "code",
   "execution_count": 11,
   "metadata": {},
   "outputs": [
    {
     "name": "stdout",
     "output_type": "stream",
     "text": [
      "Tue, 10 Mar 2020 11:48:45 GMT\n"
     ]
    }
   ],
   "source": [
    "print(response.headers['Date'])"
   ]
  },
  {
   "cell_type": "markdown",
   "metadata": {},
   "source": [
    "## **Extracción de información del HTML**"
   ]
  },
  {
   "cell_type": "markdown",
   "metadata": {},
   "source": [
    "Imorportamos librería BeautifulSoup para manejo del los HTML:"
   ]
  },
  {
   "cell_type": "code",
   "execution_count": 43,
   "metadata": {},
   "outputs": [],
   "source": [
    "import bs4"
   ]
  },
  {
   "cell_type": "markdown",
   "metadata": {},
   "source": [
    "Ahora hacemos la solicitud a la página requerida usando la librería request (que fue instanciada al inicio del jupyter)"
   ]
  },
  {
   "cell_type": "code",
   "execution_count": 44,
   "metadata": {},
   "outputs": [],
   "source": [
    "response = requests.get('https://platzi.com/categorias/desarrollo/')\n",
    "# print(dir(response))"
   ]
  },
  {
   "cell_type": "markdown",
   "metadata": {},
   "source": [
    "Ahora uso **BeautifulSoup** para hacer parse de la respuesta (en general es parsear el HTML) y seleccionar la informacióin que quiero."
   ]
  },
  {
   "cell_type": "code",
   "execution_count": 46,
   "metadata": {},
   "outputs": [
    {
     "name": "stdout",
     "output_type": "stream",
     "text": [
      "/videojuegos/\n",
      "/servidores/\n",
      "/aws/\n",
      "/apple-fullstack/\n",
      "/multiplataforma-xamarin/\n",
      "/vue/\n",
      "/arquitecto/\n",
      "/desarrollo-php/\n",
      "/datos/\n",
      "/desarrollo-angular/\n",
      "/escuela-javascript/\n",
      "/seguridad-informatica/\n",
      "/base-de-datos/\n",
      "/react-native/\n",
      "/matematicas-programacion/\n",
      "/firebase/\n",
      "/desarrollo-android/\n",
      "/ibm-cloud/\n",
      "/ciencia/\n",
      "/google-cloud/\n",
      "/iot/\n",
      "/backend-python/\n",
      "/backend-go/\n",
      "/azure/\n",
      "/asp-net/\n",
      "/desarrollo-wordpress/\n",
      "/fundamentos-programacion/\n",
      "/ai/\n",
      "/backend-ruby/\n",
      "/desarrollo-unity/\n",
      "/backend-javascript/\n",
      "/multiplataforma/\n",
      "/desarrollo-java/\n",
      "/desarrollo-react/\n"
     ]
    }
   ],
   "source": [
    "soup = bs4.BeautifulSoup(response.text, 'html.parser')\n",
    "\n",
    "#courses_links = soup.select('.CarrersItem')\n",
    "courses_links = soup.select('.LearningPathItem')\n",
    "courses = [course['href'] for course in courses_links]\n",
    "\n",
    "for course in courses:\n",
    "    print(course)"
   ]
  },
  {
   "cell_type": "markdown",
   "metadata": {},
   "source": [
    "### **Primera vista al dataset de noticias**"
   ]
  },
  {
   "cell_type": "code",
   "execution_count": null,
   "metadata": {},
   "outputs": [],
   "source": []
  }
 ],
 "metadata": {
  "kernelspec": {
   "display_name": "Python 3",
   "language": "python",
   "name": "python3"
  },
  "language_info": {
   "codemirror_mode": {
    "name": "ipython",
    "version": 3
   },
   "file_extension": ".py",
   "mimetype": "text/x-python",
   "name": "python",
   "nbconvert_exporter": "python",
   "pygments_lexer": "ipython3",
   "version": "3.7.6"
  }
 },
 "nbformat": 4,
 "nbformat_minor": 4
}
